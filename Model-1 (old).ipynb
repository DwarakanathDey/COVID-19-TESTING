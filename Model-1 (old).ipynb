{
 "cells": [
  {
   "cell_type": "code",
   "execution_count": 1,
   "id": "c963a153",
   "metadata": {},
   "outputs": [
    {
     "name": "stdout",
     "output_type": "stream",
     "text": [
      "{'Covid Negative': 0, 'Covid Positive': 1}\n",
      "['Covid Negative', 'Covid Positive']\n",
      "[0, 1]\n"
     ]
    }
   ],
   "source": [
    "import cv2,os\n",
    "\n",
    "data_path='samples'\n",
    "categories=os.listdir(data_path)\n",
    "labels=[i for i in range(len(categories))]\n",
    "\n",
    "label_dict=dict(zip(categories,labels)) #empty dictionary\n",
    "\n",
    "print(label_dict)\n",
    "print(categories)\n",
    "print(labels)"
   ]
  },
  {
   "cell_type": "code",
   "execution_count": 2,
   "id": "bdec7b68",
   "metadata": {},
   "outputs": [],
   "source": [
    "#img_size=100 or 240\n",
    "data=[]\n",
    "target=[]\n",
    "\n",
    "\n",
    "for category in categories:\n",
    "    folder_path=os.path.join(data_path,category)\n",
    "    img_names=os.listdir(folder_path)\n",
    "        \n",
    "    for img_name in img_names:\n",
    "        img_path=os.path.join(folder_path,img_name)\n",
    "        img=cv2.imread(img_path)\n",
    "\n",
    "        try:\n",
    "            gray=cv2.cvtColor(img,cv2.COLOR_BGR2GRAY)       # converting image to grayscale    \n",
    "      \n",
    "            resized=cv2.resize(gray,(150,150))             # resizing the grayscale into 600x1300\n",
    "           \n",
    "            data.append(resized)\n",
    "            target.append(label_dict[category])\n",
    "            \n",
    "        except Exception as e:\n",
    "            print('Exception:',e)\n",
    "            "
   ]
  },
  {
   "cell_type": "code",
   "execution_count": 3,
   "id": "bf763538",
   "metadata": {},
   "outputs": [],
   "source": [
    "import numpy as np\n",
    "\n",
    "data=np.array(data)/255.0\n",
    "data=np.reshape(data,(data.shape[0],150,150,1))\n",
    "target=np.array(target)\n",
    "\n",
    "from keras.utils import np_utils\n",
    "\n",
    "new_target=np_utils.to_categorical(target)"
   ]
  },
  {
   "cell_type": "code",
   "execution_count": 4,
   "id": "cec354c3",
   "metadata": {},
   "outputs": [],
   "source": [
    "np.save('data',data)\n",
    "np.save('target',new_target)"
   ]
  },
  {
   "cell_type": "code",
   "execution_count": 5,
   "id": "c794d274",
   "metadata": {},
   "outputs": [],
   "source": [
    "import numpy as np\n",
    "\n",
    "data=np.load('data.npy')\n",
    "target=np.load('target.npy')"
   ]
  },
  {
   "cell_type": "code",
   "execution_count": 6,
   "id": "6cd24dfb",
   "metadata": {},
   "outputs": [
    {
     "name": "stdout",
     "output_type": "stream",
     "text": [
      "Model: \"sequential\"\n",
      "_________________________________________________________________\n",
      " Layer (type)                Output Shape              Param #   \n",
      "=================================================================\n",
      " model (Functional)          (None, 150, 150, 384)     11008     \n",
      "                                                                 \n",
      " conv2d_3 (Conv2D)           (None, 148, 148, 64)      221248    \n",
      "                                                                 \n",
      " activation (Activation)     (None, 148, 148, 64)      0         \n",
      "                                                                 \n",
      " max_pooling2d (MaxPooling2D  (None, 74, 74, 64)       0         \n",
      " )                                                               \n",
      "                                                                 \n",
      " conv2d_4 (Conv2D)           (None, 72, 72, 32)        18464     \n",
      "                                                                 \n",
      " activation_1 (Activation)   (None, 72, 72, 32)        0         \n",
      "                                                                 \n",
      " max_pooling2d_1 (MaxPooling  (None, 36, 36, 32)       0         \n",
      " 2D)                                                             \n",
      "                                                                 \n",
      " flatten (Flatten)           (None, 41472)             0         \n",
      "                                                                 \n",
      " dropout (Dropout)           (None, 41472)             0         \n",
      "                                                                 \n",
      " dense (Dense)               (None, 128)               5308544   \n",
      "                                                                 \n",
      " dropout_1 (Dropout)         (None, 128)               0         \n",
      "                                                                 \n",
      " dense_1 (Dense)             (None, 64)                8256      \n",
      "                                                                 \n",
      " dropout_2 (Dropout)         (None, 64)                0         \n",
      "                                                                 \n",
      " dense_2 (Dense)             (None, 2)                 130       \n",
      "                                                                 \n",
      "=================================================================\n",
      "Total params: 5,567,650\n",
      "Trainable params: 5,567,650\n",
      "Non-trainable params: 0\n",
      "_________________________________________________________________\n"
     ]
    }
   ],
   "source": [
    "\n",
    "from keras.models import Sequential,Model\n",
    "from keras.layers import Dense, Dropout, Flatten\n",
    "from keras.layers import Conv2D,Activation,MaxPooling2D\n",
    "from tensorflow.keras.utils import normalize\n",
    "from keras.layers import Concatenate\n",
    "from keras import Input\n",
    "from keras.callbacks import ModelCheckpoint\n",
    "\n",
    "input_shape=data.shape[1:]   \n",
    "inp=Input(shape=input_shape)\n",
    "convs=[]\n",
    "\n",
    "parrallel_kernels=[3,5,7]\n",
    "\n",
    "for k in range(len(parrallel_kernels)):\n",
    "\n",
    "    conv = Conv2D(128, parrallel_kernels[k],padding='same',activation='relu',input_shape=input_shape,strides=1)(inp)\n",
    "    convs.append(conv)\n",
    "\n",
    "out = Concatenate()(convs)\n",
    "conv_model = Model(inputs=inp, outputs=out)\n",
    "\n",
    "model = Sequential()\n",
    "model.add(conv_model)\n",
    "\n",
    "model.add(Conv2D(64,(3,3)))\n",
    "model.add(Activation('relu'))\n",
    "model.add(MaxPooling2D(pool_size=(2,2)))\n",
    "\n",
    "model.add(Conv2D(32,(3,3)))\n",
    "model.add(Activation('relu'))\n",
    "model.add(MaxPooling2D(pool_size=(2,2)))\n",
    "\n",
    "model.add(Flatten())\n",
    "model.add(Dropout(0.5))\n",
    "model.add(Dense(128,activation='relu'))\n",
    "model.add(Dropout(0.5))\n",
    "model.add(Dense(64,activation='relu'))\n",
    "model.add(Dropout(0.5))\n",
    "model.add(Dense(2,input_dim=128,activation='softmax'))\n",
    "model.compile(loss='categorical_crossentropy',optimizer='adam',metrics=['accuracy'])\n",
    "\n",
    "model.summary()\n"
   ]
  },
  {
   "cell_type": "code",
   "execution_count": 7,
   "id": "b60c4673",
   "metadata": {},
   "outputs": [],
   "source": [
    "from sklearn.model_selection import train_test_split\n",
    "\n",
    "train_data,test_data,train_target,test_target=train_test_split(data,target,test_size=0.2)"
   ]
  },
  {
   "cell_type": "code",
   "execution_count": 8,
   "id": "da1d6186",
   "metadata": {},
   "outputs": [],
   "source": [
    "#test_data\n"
   ]
  },
  {
   "cell_type": "code",
   "execution_count": 9,
   "id": "ab75024e",
   "metadata": {
    "scrolled": true
   },
   "outputs": [
    {
     "name": "stdout",
     "output_type": "stream",
     "text": [
      "Epoch 1/25\n",
      "7/7 [==============================] - ETA: 0s - loss: 0.7052 - accuracy: 0.5346INFO:tensorflow:Assets written to: model-001.model\\assets\n",
      "7/7 [==============================] - 64s 9s/step - loss: 0.7052 - accuracy: 0.5346 - val_loss: 0.5657 - val_accuracy: 0.7200\n",
      "Epoch 2/25\n",
      "7/7 [==============================] - 72s 11s/step - loss: 0.7196 - accuracy: 0.5899 - val_loss: 0.6250 - val_accuracy: 0.7200\n",
      "Epoch 3/25\n",
      "7/7 [==============================] - 53s 8s/step - loss: 0.6803 - accuracy: 0.6037 - val_loss: 0.6542 - val_accuracy: 0.7200\n",
      "Epoch 4/25\n",
      "7/7 [==============================] - 54s 8s/step - loss: 0.6649 - accuracy: 0.6452 - val_loss: 0.5717 - val_accuracy: 0.7200\n",
      "Epoch 5/25\n",
      "7/7 [==============================] - 54s 8s/step - loss: 0.6408 - accuracy: 0.6590 - val_loss: 0.5858 - val_accuracy: 0.8800\n",
      "Epoch 6/25\n",
      "7/7 [==============================] - ETA: 0s - loss: 0.5975 - accuracy: 0.7143INFO:tensorflow:Assets written to: model-006.model\\assets\n",
      "7/7 [==============================] - 58s 8s/step - loss: 0.5975 - accuracy: 0.7143 - val_loss: 0.4048 - val_accuracy: 0.8800\n",
      "Epoch 7/25\n",
      "7/7 [==============================] - ETA: 0s - loss: 0.5348 - accuracy: 0.7880INFO:tensorflow:Assets written to: model-007.model\\assets\n",
      "7/7 [==============================] - 61s 9s/step - loss: 0.5348 - accuracy: 0.7880 - val_loss: 0.3518 - val_accuracy: 0.9200\n",
      "Epoch 8/25\n",
      "7/7 [==============================] - ETA: 0s - loss: 0.4898 - accuracy: 0.7742INFO:tensorflow:Assets written to: model-008.model\\assets\n",
      "7/7 [==============================] - 58s 8s/step - loss: 0.4898 - accuracy: 0.7742 - val_loss: 0.3057 - val_accuracy: 0.9200\n",
      "Epoch 9/25\n",
      "7/7 [==============================] - 54s 8s/step - loss: 0.5518 - accuracy: 0.7327 - val_loss: 0.3894 - val_accuracy: 0.8800\n",
      "Epoch 10/25\n",
      "7/7 [==============================] - ETA: 0s - loss: 0.5020 - accuracy: 0.7926INFO:tensorflow:Assets written to: model-010.model\\assets\n",
      "7/7 [==============================] - 58s 8s/step - loss: 0.5020 - accuracy: 0.7926 - val_loss: 0.2867 - val_accuracy: 0.9200\n",
      "Epoch 11/25\n",
      "7/7 [==============================] - 55s 8s/step - loss: 0.5293 - accuracy: 0.7650 - val_loss: 0.3059 - val_accuracy: 0.9200\n",
      "Epoch 12/25\n",
      "7/7 [==============================] - 55s 8s/step - loss: 0.4591 - accuracy: 0.8065 - val_loss: 0.3229 - val_accuracy: 0.9200\n",
      "Epoch 13/25\n",
      "7/7 [==============================] - 56s 8s/step - loss: 0.4506 - accuracy: 0.7972 - val_loss: 0.3461 - val_accuracy: 0.9200\n",
      "Epoch 14/25\n",
      "7/7 [==============================] - 57s 8s/step - loss: 0.3808 - accuracy: 0.8756 - val_loss: 0.3248 - val_accuracy: 0.9200\n",
      "Epoch 15/25\n",
      "7/7 [==============================] - 56s 8s/step - loss: 0.3974 - accuracy: 0.8618 - val_loss: 0.3943 - val_accuracy: 0.8800\n",
      "Epoch 16/25\n",
      "7/7 [==============================] - 56s 8s/step - loss: 0.4032 - accuracy: 0.8618 - val_loss: 0.3682 - val_accuracy: 0.9200\n",
      "Epoch 17/25\n",
      "7/7 [==============================] - 57s 8s/step - loss: 0.3947 - accuracy: 0.8571 - val_loss: 0.3689 - val_accuracy: 0.9200\n",
      "Epoch 18/25\n",
      "7/7 [==============================] - 57s 8s/step - loss: 0.3680 - accuracy: 0.8249 - val_loss: 0.4657 - val_accuracy: 0.8000\n",
      "Epoch 19/25\n",
      "7/7 [==============================] - 58s 8s/step - loss: 0.2998 - accuracy: 0.8848 - val_loss: 0.4431 - val_accuracy: 0.9200\n",
      "Epoch 20/25\n",
      "7/7 [==============================] - 58s 8s/step - loss: 0.2791 - accuracy: 0.8894 - val_loss: 0.5143 - val_accuracy: 0.8800\n",
      "Epoch 21/25\n",
      "7/7 [==============================] - 58s 8s/step - loss: 0.2285 - accuracy: 0.9171 - val_loss: 0.6705 - val_accuracy: 0.9200\n",
      "Epoch 22/25\n",
      "7/7 [==============================] - 58s 8s/step - loss: 0.2694 - accuracy: 0.8848 - val_loss: 0.5631 - val_accuracy: 0.9200\n",
      "Epoch 23/25\n",
      "7/7 [==============================] - 60s 9s/step - loss: 0.2374 - accuracy: 0.9124 - val_loss: 0.4634 - val_accuracy: 0.8400\n",
      "Epoch 24/25\n",
      "7/7 [==============================] - 59s 8s/step - loss: 0.2695 - accuracy: 0.8940 - val_loss: 0.5101 - val_accuracy: 0.8000\n",
      "Epoch 25/25\n",
      "7/7 [==============================] - 59s 8s/step - loss: 0.2033 - accuracy: 0.9309 - val_loss: 0.5394 - val_accuracy: 0.9200\n"
     ]
    }
   ],
   "source": [
    "checkpoint = ModelCheckpoint('model-{epoch:03d}.model',monitor='val_loss',verbose=0,save_best_only=True,mode='auto')\n",
    "\n",
    "history=model.fit(train_data,train_target,epochs=25,callbacks=[checkpoint],validation_split=0.1)\n"
   ]
  },
  {
   "cell_type": "code",
   "execution_count": 10,
   "id": "1552a016",
   "metadata": {},
   "outputs": [
    {
     "name": "stdout",
     "output_type": "stream",
     "text": [
      "Evaluating...\n",
      "              precision    recall  f1-score   support\n",
      "\n",
      "           0       0.69      0.55      0.61        20\n",
      "           1       0.80      0.88      0.84        41\n",
      "\n",
      "    accuracy                           0.77        61\n",
      "   macro avg       0.74      0.71      0.72        61\n",
      "weighted avg       0.76      0.77      0.76        61\n",
      "\n",
      "accuracy: 0.7704918032786885\n"
     ]
    }
   ],
   "source": [
    "#from sklearn.preprocessing import LabelBinarizer\n",
    "from sklearn.metrics import confusion_matrix\n",
    "from tensorflow.keras.models import Model\n",
    "from sklearn.metrics import classification_report\n",
    "bs=8\n",
    "print(\"Evaluating...\")\n",
    "pred=model.predict(test_data,batch_size=bs)\n",
    "#print(pred)\n",
    "pred=np.argmax(pred,axis=1)\n",
    "#print(pred)\n",
    "\n",
    "print(classification_report(test_target.argmax(axis=1),pred))\n",
    "\n",
    "cm=confusion_matrix(test_target.argmax(axis=1),pred)\n",
    "total=sum(sum(cm))\n",
    "acc=(cm[0,0]+cm[1,1])/total\n",
    "#print(cm)\n",
    "print(\"accuracy:\",acc)\n"
   ]
  },
  {
   "cell_type": "code",
   "execution_count": 12,
   "id": "c5ce5552",
   "metadata": {},
   "outputs": [
    {
     "data": {
      "text/plain": [
       "<matplotlib.legend.Legend at 0x1c201fb4070>"
      ]
     },
     "execution_count": 12,
     "metadata": {},
     "output_type": "execute_result"
    },
    {
     "data": {
      "image/png": "[encoded data removed]",
      "text/plain": [
       "<Figure size 720x576 with 1 Axes>"
      ]
     },
     "metadata": {
      "needs_background": "light"
     },
     "output_type": "display_data"
    }
   ],
   "source": [
    "from matplotlib import pyplot as plt\n",
    "\n",
    "plt.figure(figsize=(10,8))\n",
    "plt.plot(history.history['loss'],'r',linewidth=2,label='training loss')\n",
    "plt.plot(history.history['val_loss'],'b',linewidth=2,label='validation loss')\n",
    "plt.xlabel('epochs --->')\n",
    "plt.ylabel('Loss (train and validation) -->')\n",
    "plt.title('Loss Curve (for 502 samples)')\n",
    "plt.ylim(0,1.2)\n",
    "#plt.xlim(0,25)\n",
    "plt.legend()\n",
    "#plt.show()"
   ]
  },
  {
   "cell_type": "code",
   "execution_count": 13,
   "id": "1e9f366d",
   "metadata": {},
   "outputs": [
    {
     "data": {
      "text/plain": [
       "<matplotlib.legend.Legend at 0x1c204e9c0a0>"
      ]
     },
     "execution_count": 13,
     "metadata": {},
     "output_type": "execute_result"
    },
    {
     "data": {
      "image/png": "[encoded data removed]",
      "text/plain": [
       "<Figure size 720x576 with 1 Axes>"
      ]
     },
     "metadata": {
      "needs_background": "light"
     },
     "output_type": "display_data"
    }
   ],
   "source": [
    "plt.figure(figsize=(10,8))\n",
    "\n",
    "plt.plot(history.history['accuracy'],'r',linewidth=2,label='training accuracy')\n",
    "plt.plot(history.history['val_accuracy'],'g',linewidth=2,label='validation accuracy')\n",
    "plt.xlabel('epochs --->')\n",
    "plt.ylabel('Accuracy (train and validation) -->')\n",
    "plt.title('Accuracy Curve (for 502 samples)')\n",
    "plt.ylim(0,1.2)\n",
    "plt.legend()\n",
    "#plt.show()\n"
   ]
  },
  {
   "cell_type": "code",
   "execution_count": 14,
   "id": "3cbcc11f",
   "metadata": {},
   "outputs": [
    {
     "name": "stdout",
     "output_type": "stream",
     "text": [
      "2/2 [==============================] - 3s 1s/step - loss: 1.0485 - accuracy: 0.7705\n",
      "[1.0485138893127441, 0.7704917788505554]\n"
     ]
    }
   ],
   "source": [
    "print(model.evaluate(test_data,test_target))"
   ]
  },
  {
   "cell_type": "code",
   "execution_count": 24,
   "id": "c76ed610",
   "metadata": {},
   "outputs": [
    {
     "name": "stdout",
     "output_type": "stream",
     "text": [
      "Collecting virtualenvNote: you may need to restart the kernel to use updated packages.\n",
      "  Downloading virtualenv-20.13.1-py2.py3-none-any.whl (8.6 MB)\n",
      "Collecting platformdirs<3,>=2\n",
      "  Downloading platformdirs-2.5.0-py3-none-any.whl (14 kB)\n",
      "Requirement already satisfied: six<2,>=1.9.0 in c:\\users\\user\\anaconda3\\lib\\site-packages (from virtualenv) (1.15.0)\n",
      "Collecting filelock<4,>=3.2\n",
      "  Downloading filelock-3.5.0-py3-none-any.whl (10.0 kB)\n",
      "Collecting distlib<1,>=0.3.1\n",
      "  Downloading distlib-0.3.4-py2.py3-none-any.whl (461 kB)\n",
      "Installing collected packages: platformdirs, filelock, distlib, virtualenv\n",
      "  Attempting uninstall: filelock\n",
      "    Found existing installation: filelock 3.0.12\n",
      "    Uninstalling filelock-3.0.12:\n",
      "      Successfully uninstalled filelock-3.0.12\n",
      "Successfully installed distlib-0.3.4 filelock-3.5.0 platformdirs-2.5.0 virtualenv-20.13.1\n",
      "\n"
     ]
    }
   ],
   "source": [
    "pip install virtualenv"
   ]
  },
  {
   "cell_type": "code",
   "execution_count": null,
   "id": "a3a490e8",
   "metadata": {},
   "outputs": [],
   "source": []
  },
  {
   "cell_type": "code",
   "execution_count": null,
   "id": "e9cd3a07",
   "metadata": {},
   "outputs": [],
   "source": []
  }
 ],
 "metadata": {
  "kernelspec": {
   "display_name": "Python 3",
   "language": "python",
   "name": "python3"
  },
  "language_info": {
   "codemirror_mode": {
    "name": "ipython",
    "version": 3
   },
   "file_extension": ".py",
   "mimetype": "text/x-python",
   "name": "python",
   "nbconvert_exporter": "python",
   "pygments_lexer": "ipython3",
   "version": "3.8.8"
  }
 },
 "nbformat": 4,
 "nbformat_minor": 5
}
